{
 "cells": [
  {
   "cell_type": "code",
   "execution_count": null,
   "id": "c8230006",
   "metadata": {},
   "outputs": [],
   "source": [
    "class Secret:\n",
    "    \n",
    "    # Constructor\n",
    "    def __init__(self, key, message):\n",
    "        \n",
    "        self.key = key\n",
    "        self.message = message\n",
    "        self.dict_1 = {}\n",
    "        self.dict_2 = {}\n",
    "        self.new_message = ''\n",
    "     \n",
    "    # Create dictionaries\n",
    "    def dictionaries(self):\n",
    "        \n",
    "        import string\n",
    "        \n",
    "        if self.key == 0:\n",
    "            return self.message\n",
    "        \n",
    "        # Add key value pairs to dicts\n",
    "        for i, letter in enumerate(string.ascii_lowercase):\n",
    "            self.dict_1[letter] = i\n",
    "            self.dict_2[i] = letter\n",
    "        \n",
    "        # Return dicts\n",
    "        return self.dict_1, self.dict_2\n",
    "    \n",
    "    # Encrypt message\n",
    "    def encrypt(self):\n",
    "        \n",
    "        # Move and append new character to empty string\n",
    "        for i in self.message:\n",
    "            dict_1, dict_2 = self.dictionaries()\n",
    "            if i.isalpha():\n",
    "                index = dict_1.get(i.lower()) + self.key\n",
    "                if index < 26:\n",
    "                    i = dict_2.get(index).upper()\n",
    "                else:\n",
    "                    index = index - 26\n",
    "                    i = dict_2.get(index).upper()\n",
    "                self.new_message += i\n",
    "            else:\n",
    "                self.new_message += i\n",
    "                \n",
    "        return self.new_message# Return string\n",
    "    \n",
    "    # Decrypt message\n",
    "    def decrypt(self):\n",
    "        \n",
    "        # Move and append new character to empty string\n",
    "        for i in self.message:\n",
    "            dict_1, dict_2 = self.dictionaries()\n",
    "            if i.isalpha():\n",
    "                index = dict_1.get(i.lower()) - self.key\n",
    "                if index >= 0:\n",
    "                    i = dict_2.get(index).upper()\n",
    "                    self.new_message += i\n",
    "                else:\n",
    "                    index = 26 + index\n",
    "                    i = dict_2.get(index).upper()\n",
    "                    self.new_message += i\n",
    "            else:\n",
    "                self.new_message += i\n",
    "        \n",
    "        # Return string\n",
    "        return self.new_message"
   ]
  },
  {
   "cell_type": "code",
   "execution_count": null,
   "id": "a2a78418",
   "metadata": {},
   "outputs": [],
   "source": [
    "cipher = Secret(2, 'VJKU YQTNF KU ETCBA')"
   ]
  },
  {
   "cell_type": "code",
   "execution_count": null,
   "id": "66fd448f",
   "metadata": {},
   "outputs": [],
   "source": [
    "cipher.encrypt()"
   ]
  },
  {
   "cell_type": "code",
   "execution_count": null,
   "id": "1077db52",
   "metadata": {},
   "outputs": [],
   "source": [
    "cipher.decrypt()"
   ]
  },
  {
   "cell_type": "code",
   "execution_count": null,
   "id": "3f7409dd",
   "metadata": {},
   "outputs": [],
   "source": []
  }
 ],
 "metadata": {
  "kernelspec": {
   "display_name": "Python 3 (ipykernel)",
   "language": "python",
   "name": "python3"
  },
  "language_info": {
   "codemirror_mode": {
    "name": "ipython",
    "version": 3
   },
   "file_extension": ".py",
   "mimetype": "text/x-python",
   "name": "python",
   "nbconvert_exporter": "python",
   "pygments_lexer": "ipython3",
   "version": "3.9.12"
  }
 },
 "nbformat": 4,
 "nbformat_minor": 5
}
