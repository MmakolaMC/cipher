{
 "cells": [
  {
   "cell_type": "code",
   "execution_count": 7,
   "id": "c8230006",
   "metadata": {},
   "outputs": [],
   "source": [
    "class Secret:\n",
    "    \n",
    "    # Constructor\n",
    "    def __init__(self, key:int, message:str):\n",
    "        \n",
    "        self.key = key\n",
    "        self.message = message\n",
    "        self.dict_1 = {}\n",
    "        self.dict_2 = {}\n",
    "        self.new_message = ''\n",
    "     \n",
    "    # Create dictionaries\n",
    "    def dictionaries(self):\n",
    "        \n",
    "        import string\n",
    "        \n",
    "        if self.key == 0:\n",
    "            return self.message\n",
    "        \n",
    "        # Add key value pairs to dicts\n",
    "        for i, letter in enumerate(string.ascii_lowercase):\n",
    "            self.dict_1[letter] = i\n",
    "            self.dict_2[i] = letter\n",
    "        \n",
    "        # Return dicts\n",
    "        return self.dict_1, self.dict_2\n",
    "    \n",
    "    # Encrypt message\n",
    "    def encrypt(self):\n",
    "        \n",
    "        # Move and append new character to empty string\n",
    "        for i in self.message:\n",
    "            dict_1, dict_2 = self.dictionaries()\n",
    "            if i.isalpha():\n",
    "                index = dict_1.get(i.lower()) + self.key\n",
    "                if index < 26:\n",
    "                    i = dict_2.get(index).upper()\n",
    "                else:\n",
    "                    index = index - 26\n",
    "                    i = dict_2.get(index).upper()\n",
    "                self.new_message += i\n",
    "            else:\n",
    "                self.new_message += i\n",
    "                \n",
    "        return self.new_message# Return string\n",
    "    \n",
    "    # Decrypt message\n",
    "    def decrypt(self):\n",
    "        \n",
    "        # Move and append new character to empty string\n",
    "        for i in self.message:\n",
    "            dict_1, dict_2 = self.dictionaries()\n",
    "            if i.isalpha():\n",
    "                index = dict_1.get(i.lower()) - self.key\n",
    "                if index >= 0:\n",
    "                    i = dict_2.get(index).upper()\n",
    "                    self.new_message += i\n",
    "                else:\n",
    "                    index = 26 + index\n",
    "                    i = dict_2.get(index).upper()\n",
    "                    self.new_message += i\n",
    "            else:\n",
    "                self.new_message += i\n",
    "        \n",
    "        # Return string\n",
    "        return self.new_message"
   ]
  },
  {
   "cell_type": "code",
   "execution_count": 7,
   "id": "561628a3",
   "metadata": {},
   "outputs": [
    {
     "name": "stdout",
     "output_type": "stream",
     "text": [
      "Enter number: 5\n",
      "Enter message: this is what we live for\n"
     ]
    },
    {
     "ename": "Exception",
     "evalue": "Key must be of type int and Message must be of type str/object",
     "output_type": "error",
     "traceback": [
      "\u001b[0;31m---------------------------------------------------------------------------\u001b[0m",
      "\u001b[0;31mException\u001b[0m                                 Traceback (most recent call last)",
      "Cell \u001b[0;32mIn [7], line 4\u001b[0m\n\u001b[1;32m      2\u001b[0m message \u001b[38;5;241m=\u001b[39m \u001b[38;5;28minput\u001b[39m(\u001b[38;5;124m'\u001b[39m\u001b[38;5;124mEnter message: \u001b[39m\u001b[38;5;124m'\u001b[39m)\n\u001b[1;32m      3\u001b[0m \u001b[38;5;28;01mif\u001b[39;00m \u001b[38;5;28mtype\u001b[39m(key) \u001b[38;5;241m!=\u001b[39m \u001b[38;5;28mint\u001b[39m \u001b[38;5;129;01mor\u001b[39;00m \u001b[38;5;28mtype\u001b[39m(message) \u001b[38;5;241m!=\u001b[39m \u001b[38;5;28mstr\u001b[39m:\n\u001b[0;32m----> 4\u001b[0m     \u001b[38;5;28;01mraise\u001b[39;00m \u001b[38;5;167;01mException\u001b[39;00m (\u001b[38;5;124m'\u001b[39m\u001b[38;5;124mKey must be of type int and Message must be of type str/object\u001b[39m\u001b[38;5;124m'\u001b[39m)\n",
      "\u001b[0;31mException\u001b[0m: Key must be of type int and Message must be of type str/object"
     ]
    }
   ],
   "source": [
    "key = int(input('Enter encryption or decrytion key: '))\n",
    "message = input('Enter message: ')\n",
    "if type(key) != int or type(message) != str:\n",
    "    raise Exception ('Key must be of type int and Message must be of type str/object')"
   ]
  },
  {
   "cell_type": "code",
   "execution_count": 8,
   "id": "a2a78418",
   "metadata": {},
   "outputs": [],
   "source": [
    "cipher = Secret(2, 'VJKU YQTNF KU ETCBA') "
   ]
  },
  {
   "cell_type": "code",
   "execution_count": 5,
   "id": "66fd448f",
   "metadata": {},
   "outputs": [
    {
     "data": {
      "text/plain": [
       "'XLMW ASVPH MW GVEDC'"
      ]
     },
     "execution_count": 5,
     "metadata": {},
     "output_type": "execute_result"
    }
   ],
   "source": [
    "cipher.encrypt()"
   ]
  },
  {
   "cell_type": "code",
   "execution_count": 9,
   "id": "1077db52",
   "metadata": {},
   "outputs": [
    {
     "data": {
      "text/plain": [
       "'THIS WORLD IS CRAZY'"
      ]
     },
     "execution_count": 9,
     "metadata": {},
     "output_type": "execute_result"
    }
   ],
   "source": [
    "cipher.decrypt()"
   ]
  },
  {
   "cell_type": "code",
   "execution_count": 10,
   "id": "3f7409dd",
   "metadata": {},
   "outputs": [
    {
     "data": {
      "text/plain": [
       "2"
      ]
     },
     "execution_count": 10,
     "metadata": {},
     "output_type": "execute_result"
    }
   ],
   "source": [
    "cipher.key"
   ]
  },
  {
   "cell_type": "code",
   "execution_count": 11,
   "id": "6e82403d",
   "metadata": {},
   "outputs": [
    {
     "data": {
      "text/plain": [
       "'VJKU YQTNF KU ETCBA'"
      ]
     },
     "execution_count": 11,
     "metadata": {},
     "output_type": "execute_result"
    }
   ],
   "source": [
    "cipher.message"
   ]
  },
  {
   "cell_type": "code",
   "execution_count": null,
   "id": "11f6c5c8",
   "metadata": {
    "scrolled": false
   },
   "outputs": [],
   "source": []
  }
 ],
 "metadata": {
  "kernelspec": {
   "display_name": "Python 3 (ipykernel)",
   "language": "python",
   "name": "python3"
  },
  "language_info": {
   "codemirror_mode": {
    "name": "ipython",
    "version": 3
   },
   "file_extension": ".py",
   "mimetype": "text/x-python",
   "name": "python",
   "nbconvert_exporter": "python",
   "pygments_lexer": "ipython3",
   "version": "3.9.12"
  }
 },
 "nbformat": 4,
 "nbformat_minor": 5
}
