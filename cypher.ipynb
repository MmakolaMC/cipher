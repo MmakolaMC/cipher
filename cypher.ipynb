{
 "cells": [
  {
   "cell_type": "code",
   "execution_count": 23,
   "id": "356136fe",
   "metadata": {},
   "outputs": [],
   "source": [
    "import string\n",
    "import random\n",
    "import requests\n",
    "\n",
    "def cypher_dict():  \n",
    "    \n",
    "    letters_num = {}\n",
    "    num_letters = {}\n",
    "    \n",
    "    if key == 0:\n",
    "        return message\n",
    "    \n",
    "    for i, letter in zip(range(1, 27), string.ascii_lowercase):\n",
    "        letters_num[letter] = i\n",
    "        num_letters[i] = letter\n",
    "        \n",
    "    return letters_num, num_letters"
   ]
  },
  {
   "cell_type": "markdown",
   "id": "e9f5db37",
   "metadata": {},
   "source": [
    "> replace letter in message with num"
   ]
  },
  {
   "cell_type": "code",
   "execution_count": 27,
   "id": "4ada03cf",
   "metadata": {},
   "outputs": [
    {
     "name": "stdout",
     "output_type": "stream",
     "text": [
      "{'a': 1, 'b': 2, 'c': 3, 'd': 4, 'e': 5, 'f': 6, 'g': 7, 'h': 8, 'i': 9, 'j': 10, 'k': 11, 'l': 12, 'm': 13, 'n': 14, 'o': 15, 'p': 16, 'q': 17, 'r': 18, 's': 19, 't': 20, 'u': 21, 'v': 22, 'w': 23, 'x': 24, 'y': 25, 'z': 26}\n",
      "\n",
      "\n",
      "{1: 'a', 2: 'b', 3: 'c', 4: 'd', 5: 'e', 6: 'f', 7: 'g', 8: 'h', 9: 'i', 10: 'j', 11: 'k', 12: 'l', 13: 'm', 14: 'n', 15: 'o', 16: 'p', 17: 'q', 18: 'r', 19: 's', 20: 't', 21: 'u', 22: 'v', 23: 'w', 24: 'x', 25: 'y', 26: 'z'}\n"
     ]
    }
   ],
   "source": [
    "l, m = cypher_dict()\n",
    "print(f'{l}\\n\\n')\n",
    "print(m)"
   ]
  },
  {
   "cell_type": "code",
   "execution_count": 38,
   "id": "93692e2d",
   "metadata": {
    "scrolled": true
   },
   "outputs": [
    {
     "name": "stdout",
     "output_type": "stream",
     "text": [
      "Enter message: xyz\n",
      "Enter key: 9\n"
     ]
    },
    {
     "data": {
      "text/plain": [
       "'Gyz'"
      ]
     },
     "execution_count": 38,
     "metadata": {},
     "output_type": "execute_result"
    }
   ],
   "source": [
    "def encrypt(dict_1, dict_2):\n",
    "    message = input('Enter message: ').lower()\n",
    "    key = int(input('Enter key: '))\n",
    "    new_index = 0\n",
    "    \n",
    "    for i in message:\n",
    "        if (dict_1.get(i)  + key) > 26 and i.isalpha():\n",
    "            key = (dict_1.get(i) + key) - 26\n",
    "            encrypted_message = message.replace(i, dict_2.get(key).upper())\n",
    "            return encrypted_message\n",
    "        elif i.isalpha():\n",
    "            key = dict_1.get(i) + key\n",
    "            encrypted_message = message.replace(i, dict_2.get(key).upper())\n",
    "            return encrypted_message\n",
    "\n",
    "encrypt(l, m)   "
   ]
  },
  {
   "cell_type": "code",
   "execution_count": 34,
   "id": "05e96d9d",
   "metadata": {},
   "outputs": [
    {
     "name": "stdout",
     "output_type": "stream",
     "text": [
      "t\n",
      "h\n",
      "i\n",
      "s\n",
      " \n",
      "i\n",
      "s\n",
      " \n",
      "t\n",
      "a\n",
      "k\n",
      "i\n",
      "n\n",
      "g\n",
      " \n",
      "f\n",
      "o\n",
      "r\n",
      "e\n",
      "v\n",
      "e\n",
      "r\n"
     ]
    }
   ],
   "source": [
    "s = 'this is taking forever'\n",
    "for i in s:\n",
    "    print(i)"
   ]
  },
  {
   "cell_type": "code",
   "execution_count": null,
   "id": "33cacb74",
   "metadata": {},
   "outputs": [],
   "source": []
  }
 ],
 "metadata": {
  "kernelspec": {
   "display_name": "Python 3 (ipykernel)",
   "language": "python",
   "name": "python3"
  },
  "language_info": {
   "codemirror_mode": {
    "name": "ipython",
    "version": 3
   },
   "file_extension": ".py",
   "mimetype": "text/x-python",
   "name": "python",
   "nbconvert_exporter": "python",
   "pygments_lexer": "ipython3",
   "version": "3.9.12"
  }
 },
 "nbformat": 4,
 "nbformat_minor": 5
}
